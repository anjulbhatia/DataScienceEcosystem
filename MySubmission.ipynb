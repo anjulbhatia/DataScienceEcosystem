{
 "cells": [
  {
   "cell_type": "markdown",
   "metadata": {},
   "source": [
    "# My Submission - Tools for Data Science"
   ]
  },
  {
   "cell_type": "markdown",
   "metadata": {},
   "source": [
    "This is my Submission to Tools for Data Science - IBM Data Science Professional Certificate on Coursera.\n",
    "The Date is 11th May 2023 and I am Anjul Bhatia fro India :smile:"
   ]
  },
  {
   "cell_type": "markdown",
   "metadata": {},
   "source": [
    "#### List of Programming Languages used for Data Science\n",
    "- **Python** - A General Purpose, Production-ready Programming Language \n",
    "- **R** - Language created for statistics\n",
    "- **SQL** - Language used for querying relational databases"
   ]
  },
  {
   "cell_type": "markdown",
   "metadata": {},
   "source": [
    "#### List of Programming Libraries used for Data Science\n",
    "1. Python\n",
    "- Numpy\n",
    "- Pandas\n",
    "- Matplotlib\n",
    "- Scikit-learn\n",
    "- Keras\n",
    "2. R\n",
    "- ggplot2\n",
    "- dplyr"
   ]
  },
  {
   "cell_type": "markdown",
   "metadata": {},
   "source": [
    "|Tool|Type|\n",
    "|----|----|\n",
    "|Python|Language|\n",
    "|R|Language|\n",
    "|Excel|Software|\n",
    "|Weka|Library|\n",
    "|Pandas|Library|\n",
    "|Jupyter|Platform (PaaS)|"
   ]
  },
  {
   "cell_type": "markdown",
   "metadata": {},
   "source": [
    "##### Arithmetic Operations\n",
    "\n",
    "val1 + val2 : Adds val1 and val2  \n",
    "val1 - val2 : Subtracts val2 from val1  \n",
    "val1 * val2 : Multplies val1 and val2  \n",
    "val1 / val2 : Divides val1 by val2 "
   ]
  },
  {
   "cell_type": "code",
   "execution_count": 2,
   "metadata": {
    "tags": []
   },
   "outputs": [
    {
     "data": {
      "text/plain": [
       "96"
      ]
     },
     "execution_count": 2,
     "metadata": {},
     "output_type": "execute_result"
    }
   ],
   "source": [
    "12*(5+3) #Multiplies 12 to the sum of 5 and 3"
   ]
  },
  {
   "cell_type": "code",
   "execution_count": 3,
   "metadata": {
    "tags": []
   },
   "outputs": [
    {
     "data": {
      "text/plain": [
       "(5, 21)"
      ]
     },
     "execution_count": 3,
     "metadata": {},
     "output_type": "execute_result"
    }
   ],
   "source": [
    "def min2hour(min):\n",
    "    hour = min // 60\n",
    "    rem_min = min % 60\n",
    "    return hour, rem_min\n",
    "\n",
    "min2hour(321)"
   ]
  },
  {
   "cell_type": "markdown",
   "metadata": {},
   "source": [
    "#### Objective\n",
    "**In this final assignment, you will:**\n",
    "\n",
    "- Create a Jupyter Notebook\n",
    "\n",
    "- Insert code and markdown cells\n",
    "\n",
    "- Share your notebook through GitHub"
   ]
  },
  {
   "cell_type": "markdown",
   "metadata": {
    "tags": []
   },
   "source": [
    "## Author\n",
    "*Anjul Bhatia*"
   ]
  },
  {
   "cell_type": "code",
   "execution_count": null,
   "metadata": {},
   "outputs": [],
   "source": []
  }
 ],
 "metadata": {
  "kernelspec": {
   "display_name": "Python",
   "language": "python",
   "name": "conda-env-python-py"
  },
  "language_info": {
   "codemirror_mode": {
    "name": "ipython",
    "version": 3
   },
   "file_extension": ".py",
   "mimetype": "text/x-python",
   "name": "python",
   "nbconvert_exporter": "python",
   "pygments_lexer": "ipython3",
   "version": "3.7.12"
  }
 },
 "nbformat": 4,
 "nbformat_minor": 4
}
